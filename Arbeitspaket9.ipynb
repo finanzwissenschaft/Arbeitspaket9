{
 "cells": [
  {
   "cell_type": "code",
   "execution_count": 7,
   "id": "422cf182-4a01-4c38-93a2-e86df5276b34",
   "metadata": {
    "extensions": {
     "jupyter_dashboards": {
      "activeView": "grid_default",
      "views": {
       "grid_default": {
        "col": null,
        "height": 2,
        "hidden": true,
        "locked": true,
        "row": null,
        "width": 2
       }
      }
     }
    },
    "tags": []
   },
   "outputs": [],
   "source": [
    "from __future__ import print_function\n",
    "from ipywidgets import interact, interactive, fixed, interact_manual\n",
    "import ipywidgets as widgets\n",
    "from ipywidgets import Box\n",
    "from ipywidgets import IntSlider, Label\n",
    "from IPython.display import IFrame\n",
    "\n",
    "import builtins"
   ]
  },
  {
   "cell_type": "code",
   "execution_count": 8,
   "id": "004d7f1b-6806-4907-b5fa-69bb09149556",
   "metadata": {
    "tags": []
   },
   "outputs": [
    {
     "data": {
      "application/vnd.jupyter.widget-view+json": {
       "model_id": "98efa2e2d6914026bd15dd8d7bf8ec0d",
       "version_major": 2,
       "version_minor": 0
      },
      "text/plain": [
       "Image(value=b'\\x89PNG\\r\\n\\x1a\\n\\x00\\x00\\x00\\rIHDR\\x00\\x00\\t;\\x00\\x00\\x02c\\x08\\x06\\x00\\x00\\x00\\xc9*W\\x85\\x00\\x0…"
      ]
     },
     "execution_count": 8,
     "metadata": {},
     "output_type": "execute_result"
    }
   ],
   "source": [
    "file = builtins.open(\"Bilder/Logo.png\", \"rb\")\n",
    "image = file.read()\n",
    "bild_Logo = widgets.Image(\n",
    "    value=image,\n",
    "    format='png',\n",
    "    width=200,\n",
    "   #height=128,\n",
    "    )\n",
    "bild_Logo"
   ]
  },
  {
   "cell_type": "markdown",
   "id": "4986f2ef-b95c-4f10-9582-6c2b163b5dad",
   "metadata": {
    "extensions": {
     "jupyter_dashboards": {
      "activeView": "grid_default",
      "views": {
       "grid_default": {
        "col": 4,
        "height": 3,
        "hidden": false,
        "locked": true,
        "row": 1,
        "width": 7
       }
      }
     }
    },
    "tags": []
   },
   "source": [
    "# <span style=\"font-family:Century Gothic;color:DarkCyan\">Arbeitspaket 9</span>"
   ]
  },
  {
   "cell_type": "markdown",
   "id": "d8ed7e5e-b1bf-4bad-8d15-c78f77dd7f25",
   "metadata": {
    "extensions": {
     "jupyter_dashboards": {
      "activeView": "grid_default",
      "views": {
       "grid_default": {
        "col": null,
        "height": 2,
        "hidden": true,
        "locked": true,
        "row": null,
        "width": 2
       }
      }
     }
    }
   },
   "source": [
    "## <span style=\"font-family:Century Gothic;color:DarkCyan\">Aufgabe 1</span>"
   ]
  },
  {
   "cell_type": "markdown",
   "id": "7977a05d-be00-434a-8872-d1144397b84b",
   "metadata": {
    "extensions": {
     "jupyter_dashboards": {
      "activeView": "grid_default",
      "views": {
       "grid_default": {
        "col": null,
        "height": 2,
        "hidden": true,
        "locked": true,
        "row": null,
        "width": 2
       }
      }
     }
    },
    "tags": []
   },
   "source": [
    "Individuen ziehen Nutzen $U$ aus ihrem Einkommen $y$ gemäß der Nutzenfunktion $ U(y)$.\n",
    "\n",
    "### <span style=\"font-family:Century Gothic;color:DarkCyan\">1.1 Die Nutzenfunktion</span>\n",
    "\n",
    "Nehmen Sie an, die Nutzenfunktion habe die Form\n",
    "\n",
    "$$ U(y) = a y^{b} $$\n",
    "\n",
    "wobei für die Konstante $a$ und den Exponent $b$ jeweils $a>0$ und $b>0$ gilt.\n",
    "\n",
    "> **Nutzen Sie die beiden Slider, um zu erkunden, wie sich die Form der Nutzenfunktion verändert, wenn sich die Parameter $a$ und $b$ ändern.**"
   ]
  },
  {
   "cell_type": "code",
   "execution_count": 9,
   "id": "c5f00ef7-2359-471c-9819-5664e520d1d2",
   "metadata": {
    "extensions": {
     "jupyter_dashboards": {
      "activeView": "grid_default",
      "views": {
       "grid_default": {
        "col": null,
        "height": 2,
        "hidden": true,
        "locked": true,
        "row": null,
        "width": 2
       }
      }
     }
    },
    "tags": []
   },
   "outputs": [
    {
     "data": {
      "application/vnd.jupyter.widget-view+json": {
       "model_id": "148fb14630be4719a8591daa210e7292",
       "version_major": 2,
       "version_minor": 0
      },
      "text/plain": [
       "interactive(children=(IntSlider(value=5, description='a', max=10), FloatSlider(value=0.5, description='b', max…"
      ]
     },
     "execution_count": 9,
     "metadata": {},
     "output_type": "execute_result"
    }
   ],
   "source": [
    "%matplotlib inline\n",
    "from ipywidgets import interactive\n",
    "import matplotlib.pyplot as plt\n",
    "import numpy as np\n",
    "\n",
    "def f(a,b):\n",
    "    plt.figure(2)\n",
    "    x = np.linspace(0, 1000, num=1000)\n",
    "    plt.plot(x, a*x**(b))\n",
    "    plt.ylim(0, 1000)\n",
    "    plt.xlabel(\"Einkommen\")\n",
    "    plt.ylabel(\"Nutzen\")\n",
    "    plt.show()\n",
    "    \n",
    "interactive_plot = interactive(f, a=(0, 10, 1), b=(0.1, 1, 0.1))\n",
    "output = interactive_plot.children[-1]\n",
    "interactive_plot"
   ]
  },
  {
   "cell_type": "markdown",
   "id": "9d721a6c-08b6-4b78-8a31-38a2e34a36d4",
   "metadata": {
    "extensions": {
     "jupyter_dashboards": {
      "activeView": "grid_default",
      "views": {
       "grid_default": {
        "col": null,
        "height": 2,
        "hidden": true,
        "locked": true,
        "row": null,
        "width": 2
       }
      }
     }
    }
   },
   "source": [
    "***\n",
    "\n",
    "### <span style=\"font-family:Century Gothic;color:DarkCyan\">1.2 Nutzenmaximierung unter Unsicherheit</span>\n",
    "\n",
    "Oftmals ist dem Individuum nicht bekannt, welches Einkommen $y$ es am Markt erzielen wird. Betrachten wir den Fall von Landwirt Luca. Er hat die Nutzenfunktion\n",
    "\n",
    "$$ U(y) = y^{0.5} $$\n",
    "\n",
    "Landwirt Luca weiß, dass sein Einkommen bei schlechtem Wetter $ \\underline{y} = 100 $ €  betragen wird, wohingegen es bei gutem Wetter $ \\overline{y} = 900 $ € betragen wird.\n",
    "\n",
    "> **Berechnen Sie Lucas Nutzen bei gutem und bei schlechtem Wetter. Nutzen Sie anschließend den Slider, um sich Lucas Nutzen abhängig von seinem Einkommen $y$ anzeigen zu lassen und somit Ihr Ergebnis zu verifizieren.**"
   ]
  },
  {
   "cell_type": "code",
   "execution_count": 10,
   "id": "af805c13-1b95-4eca-9069-a6aed6bdedff",
   "metadata": {
    "extensions": {
     "jupyter_dashboards": {
      "activeView": "grid_default",
      "views": {
       "grid_default": {
        "col": null,
        "height": 2,
        "hidden": true,
        "locked": true,
        "row": null,
        "width": 2
       }
      }
     }
    }
   },
   "outputs": [],
   "source": [
    "def f(y):\n",
    "    return y**0.5"
   ]
  },
  {
   "cell_type": "code",
   "execution_count": 11,
   "id": "386908c1-1788-4db6-abb9-7db29b06b4a4",
   "metadata": {
    "extensions": {
     "jupyter_dashboards": {
      "activeView": "grid_default",
      "views": {
       "grid_default": {
        "col": null,
        "height": 2,
        "hidden": true,
        "locked": true,
        "row": null,
        "width": 2
       }
      }
     }
    },
    "tags": []
   },
   "outputs": [
    {
     "data": {
      "application/vnd.jupyter.widget-view+json": {
       "model_id": "822338cfad2249bab3864fbdf40e13af",
       "version_major": 2,
       "version_minor": 0
      },
      "text/plain": [
       "interactive(children=(IntSlider(value=500, description='y', max=900, min=100), Output()), _dom_classes=('widge…"
      ]
     },
     "metadata": {},
     "output_type": "display_data"
    },
    {
     "name": "stdout",
     "output_type": "stream",
     "text": [
      "Nutzen\n"
     ]
    }
   ],
   "source": [
    "interact(f, y=(100,900,1));\n",
    "print('Nutzen')"
   ]
  },
  {
   "cell_type": "markdown",
   "id": "4782ba08-b898-4ca6-b1b1-590fb15d5947",
   "metadata": {
    "extensions": {
     "jupyter_dashboards": {
      "activeView": "grid_default",
      "views": {
       "grid_default": {
        "col": null,
        "height": 2,
        "hidden": true,
        "locked": true,
        "row": null,
        "width": 2
       }
      }
     }
    },
    "tags": []
   },
   "source": [
    "Luca folgt dem Wetterbericht \"Schauinsland\" und kennt somit die Wahrscheinlichkeit $p$, mit der gutes Wetter, d.h. kein Regen, auftreten wird. Mithilfe dieser Wahrscheinlichkeit kann er seinen Erwartungsnutzen berechnen.\n",
    "\n",
    "> **Berechnen Sie den Erwartungsnutzen $E[u(y)]$ und den Nutzen des durchschnittlich erwarteten Einkommens $u(E[y])$ für die unten beschriebenen Wetterverhältnisse. Wechseln Sie in die nebenstehenden Tabs, um sich den Lösungsweg anzeigen zu lassen und Ihr Ergebnis zu verifizieren.**"
   ]
  },
  {
   "cell_type": "code",
   "execution_count": 39,
   "id": "aa2d056f-c2b1-42e1-a008-432fea48df51",
   "metadata": {
    "extensions": {
     "jupyter_dashboards": {
      "activeView": "grid_default",
      "views": {
       "grid_default": {
        "col": null,
        "height": 2,
        "hidden": true,
        "locked": true,
        "row": null,
        "width": 2
       }
      }
     }
    },
    "tags": []
   },
   "outputs": [
    {
     "data": {
      "application/vnd.jupyter.widget-view+json": {
       "model_id": "ba173350a08248d297a6b746d55f5d60",
       "version_major": 2,
       "version_minor": 0
      },
      "text/plain": [
       "Tab(children=(Box(children=(Image(value=b'\\x89PNG\\r\\n\\x1a\\n\\x00\\x00\\x00\\rIHDR\\x00\\x00\\x00\\xd1\\x00\\x00\\x00f\\x08…"
      ]
     },
     "execution_count": 39,
     "metadata": {},
     "output_type": "execute_result"
    }
   ],
   "source": [
    "text_Regen = widgets.Textarea(\n",
    "        value=\"Im Westen und auf der Nordsee steife Windböen, auf exponierten Bergen stürmisch. Das Regenrisiko beträgt 70%\",\n",
    "        placeholder='Some LaTeX',\n",
    "        disabled=False\n",
    "    )\n",
    "text_Regen\n",
    "\n",
    "lösung1_Regen = widgets.Label(\n",
    "        value=r'\\(E[u(y)] = p \\cdot u(\\overline{y}) + (1-p) \\cdot u(\\underline{y}) = (0,3) \\cdot (900)^{0.5} + (1-0,3) \\cdot (100)^{0.5} = 9 + 7 = 16\\)',\n",
    "        placeholder='Some LaTeX',\n",
    "        description='Some LaTeX',\n",
    "        disabled=False\n",
    "    )\n",
    "\n",
    "lösung1_Regen\n",
    "\n",
    "lösung2_Regen = widgets.Label(\n",
    "        value=\"$ u(E[y]) = u(p\\\\overline{y} + (1-p)\\\\underline{y}) = (0,3 \\cdot 900 + (1-0,3) \\cdot 100)^{0.5} = (340)^{0.5} = 18,44$\",\n",
    "        placeholder='Some LaTeX',\n",
    "        description='Some LaTeX',\n",
    "        disabled=False\n",
    "    )\n",
    "lösung2_Regen\n",
    "\n",
    "## Bilder einfügen\n",
    "file = builtins.open(\"Bilder/Regen.png\", \"rb\")\n",
    "image = file.read()\n",
    "bild_Regen = widgets.Image(\n",
    "    value=image,\n",
    "    format='png',\n",
    "    width=128,\n",
    "    height=128,\n",
    "    )\n",
    "bild_Regen\n",
    "\n",
    "items = [bild_Regen,text_Regen]\n",
    "box_Regen = Box(children=items)\n",
    "\n",
    "\n",
    "tab_nest = widgets.Tab()\n",
    "tab_nest.children = [box_Regen,lösung1_Regen,lösung2_Regen]\n",
    "tab_nest.set_title(0, 'Wetterbericht')\n",
    "tab_nest.set_title(1, 'Erwartungsnutzen')\n",
    "tab_nest.set_title(2, 'Nutzen Durchschnitt')\n",
    "tab_nest\n"
   ]
  },
  {
   "cell_type": "code",
   "execution_count": 40,
   "id": "85db6f4d-c716-48ce-8a1d-14534e2bca3c",
   "metadata": {
    "extensions": {
     "jupyter_dashboards": {
      "activeView": "grid_default",
      "views": {
       "grid_default": {
        "col": null,
        "height": 2,
        "hidden": true,
        "locked": true,
        "row": null,
        "width": 2
       }
      }
     }
    }
   },
   "outputs": [
    {
     "data": {
      "application/vnd.jupyter.widget-view+json": {
       "model_id": "0ad147a67dc5469c9b7bad32daaac847",
       "version_major": 2,
       "version_minor": 0
      },
      "text/plain": [
       "Tab(children=(Box(children=(Image(value=b'\\x89PNG\\r\\n\\x1a\\n\\x00\\x00\\x00\\rIHDR\\x00\\x00\\x00\\xd7\\x00\\x00\\x00p\\x08…"
      ]
     },
     "execution_count": 40,
     "metadata": {},
     "output_type": "execute_result"
    }
   ],
   "source": [
    "text_Sonne = widgets.Textarea(\n",
    "        value=\"Dank Hoch Sabine erwarten uns sonnige Tage. Das Regenrisiko liegt bei lediglich 5%.\",\n",
    "        placeholder='Some LaTeX',\n",
    "        disabled=False\n",
    "    )\n",
    "text_Sonne\n",
    "\n",
    "lösung1_Sonne = widgets.Label(\n",
    "        value=\"$ E[u(y)] = p \\cdot u(\\overline{y}) + (1-p) \\cdot u(\\\\underline{y}) = (0,95) \\cdot (900)^{0.5} + (1-0,95) \\cdot (100)^{0.5} = 28,5 + 0,5 = 29 $\",\n",
    "        placeholder='Some LaTeX',\n",
    "        description='Some LaTeX',\n",
    "        disabled=False\n",
    "    )\n",
    "lösung1_Sonne\n",
    "\n",
    "lösung2_Sonne = widgets.Label(\n",
    "        value=\"$ u(E[y]) = u(p\\\\overline{y} + (1-p)\\\\underline{y}) = (0,95 \\cdot 900 + (1-0,95) \\cdot 100)^{0.5} = (860)^{0.5} = 29,33 $\",\n",
    "        placeholder='Some LaTeX',\n",
    "        description='Some LaTeX',\n",
    "        disabled=False\n",
    "    )\n",
    "lösung2_Sonne\n",
    "\n",
    "## Bilder einfügen\n",
    "file = builtins.open(\"Bilder/Sonne.png\", \"rb\")\n",
    "image = file.read()\n",
    "bild_Sonne = widgets.Image(\n",
    "    value=image,\n",
    "    format='png',\n",
    "    width=128,\n",
    "    height=128,\n",
    "    )\n",
    "bild_Sonne\n",
    "\n",
    "items = [bild_Sonne,text_Sonne]\n",
    "box_Sonne = Box(children=items)\n",
    "\n",
    "tab_nest = widgets.Tab()\n",
    "tab_nest.children = [box_Sonne,lösung1_Sonne,lösung2_Sonne]\n",
    "tab_nest.set_title(0, 'Wetterbericht')\n",
    "tab_nest.set_title(1, 'Erwartungsnutzen')\n",
    "tab_nest.set_title(2, 'Nutzen Durchschnitt')\n",
    "tab_nest"
   ]
  },
  {
   "cell_type": "markdown",
   "id": "51669ab9-70eb-4177-b22f-23934293f403",
   "metadata": {
    "extensions": {
     "jupyter_dashboards": {
      "activeView": "grid_default",
      "views": {
       "grid_default": {
        "col": null,
        "height": 2,
        "hidden": true,
        "locked": true,
        "row": null,
        "width": 2
       }
      }
     }
    }
   },
   "source": [
    "***\n",
    "\n",
    "### <span style=\"font-family:Century Gothic;color:DarkCyan\">1.3 Risikopräferenzen</span>\n",
    "\n",
    "\n",
    "> **Vergleichen Sie für beide Fälle Lucas Erwartungsnutzen und den Nutzen seines durchschnittlich erwarteten Einkommens. Welche Aussage können Sie über Lucas Risikopräferenzen treffen?**"
   ]
  },
  {
   "cell_type": "code",
   "execution_count": 43,
   "id": "b1671efa-2f86-4e26-82e1-5f3a16aa92fa",
   "metadata": {
    "extensions": {
     "jupyter_dashboards": {
      "activeView": "grid_default",
      "views": {
       "grid_default": {
        "col": null,
        "height": 2,
        "hidden": true,
        "locked": true,
        "row": null,
        "width": 2
       }
      }
     }
    },
    "tags": []
   },
   "outputs": [],
   "source": [
    "slider_Risiko = widgets.Dropdown(\n",
    "    options=[('Risikoavers', 1), ('Risikoneutral', 2), ('Risikoliebend', 3)],\n",
    "    value=2,\n",
    "    description='Präferenz:',\n",
    ")\n",
    "\n",
    "text_Risiko = widgets.Label(\n",
    "        value=\"\",\n",
    "        placeholder='Some LaTeX',\n",
    "        description='Some LaTeX',\n",
    "        disabled=False\n",
    "    )\n",
    "\n",
    "button_Risiko = widgets.Button(\n",
    "    description='Auswertung',\n",
    "    disabled=False,\n",
    "    button_style='', # 'success', 'info', 'warning', 'danger' or ''\n",
    "    tooltip='Bitte klicken.',\n",
    "    #icon='check' # (FontAwesome names without the `fa-` prefix)\n",
    ")\n",
    "\n",
    "# define function\n",
    "def check(button_instance):\n",
    "  if slider_Risiko.value == 1:\n",
    "    button_Risiko.button_style = 'success'\n",
    "    button_Risiko.description='Richtig'\n",
    "    text_Risiko.value=\"Lukas Nutzen aus dem Erwartungswert der zwei Alternativen $[u(E(y)]$ \\\n",
    "                        ist höher als Lukas Erwartungsnutzen $E[u(y)]$.\"\n",
    "    \n",
    "  else:\n",
    "    button_Risiko.button_style = 'danger'\n",
    "    button_Risiko.description='Leider falsch.'\n",
    "    text_Risiko.value=\"\"\n",
    "\n",
    "# set function as on_click on button\n",
    "button_Risiko.on_click(check)"
   ]
  },
  {
   "cell_type": "code",
   "execution_count": 44,
   "id": "197b8c81-8156-4a60-a72b-a505f059480a",
   "metadata": {
    "extensions": {
     "jupyter_dashboards": {
      "activeView": "grid_default",
      "views": {
       "grid_default": {
        "col": null,
        "height": 2,
        "hidden": true,
        "locked": true,
        "row": null,
        "width": 2
       }
      }
     }
    },
    "tags": []
   },
   "outputs": [
    {
     "data": {
      "application/vnd.jupyter.widget-view+json": {
       "model_id": "94c978cd96614fdd9db1809c606d29fa",
       "version_major": 2,
       "version_minor": 0
      },
      "text/plain": [
       "Box(children=(Dropdown(description='Präferenz:', index=1, options=(('Risikoavers', 1), ('Risikoneutral', 2), (…"
      ]
     },
     "metadata": {},
     "output_type": "display_data"
    },
    {
     "data": {
      "application/vnd.jupyter.widget-view+json": {
       "model_id": "30e83fd2df4547b5ab0e727d0dc1c39d",
       "version_major": 2,
       "version_minor": 0
      },
      "text/plain": [
       "Label(value='', description='Some LaTeX', placeholder='Some LaTeX')"
      ]
     },
     "metadata": {},
     "output_type": "display_data"
    }
   ],
   "source": [
    "# nebeneinander in Box anzeigen\n",
    "\n",
    "items = [slider_Risiko, button_Risiko]\n",
    "#box_Risiko = Box(items)\n",
    "box_Risiko = Box(children=items)\n",
    "display(box_Risiko) \n",
    "display(text_Risiko)"
   ]
  },
  {
   "cell_type": "markdown",
   "id": "920c6d33-b529-411e-a66e-fba7b0e78658",
   "metadata": {
    "extensions": {
     "jupyter_dashboards": {
      "activeView": "grid_default",
      "views": {
       "grid_default": {
        "col": null,
        "height": 2,
        "hidden": true,
        "locked": true,
        "row": null,
        "width": 2
       }
      }
     }
    }
   },
   "source": [
    "***\n",
    "\n",
    "## <span style=\"font-family:Century Gothic;color:DarkCyan\">Aufgabe 2</span>"
   ]
  },
  {
   "cell_type": "markdown",
   "id": "85e8bd57-61ec-4ce3-8087-0120cefa513b",
   "metadata": {
    "extensions": {
     "jupyter_dashboards": {
      "activeView": "grid_default",
      "views": {
       "grid_default": {
        "col": null,
        "height": 2,
        "hidden": true,
        "locked": true,
        "row": null,
        "width": 2
       }
      }
     }
    }
   },
   "source": [
    "Nun gehen wir davon aus, dass nicht das Wetter, sondern der Anteil an reichen Menschen in der Gesamtbevölkerung die Wahrscheinlichkeit $p$ des Individuums beeinflusst, ein hohes Einkommen zu haben.\n",
    "\n",
    "Je höher der Anteil an reichen Menschen in der Bevölkerung, desto höher die Wahrscheinlichkeit für Individuum $i$ ebenfalls zu dieser Gruppe zu gehören.\n",
    "Die Wahrscheinlichkeit $p$ für ein hohes Einkommen entspricht somit dem Anteil an reichen Personen an der Gesamtbevölkerung.\n",
    "\n",
    "$ p = \\frac{r}{a+r}$\n",
    "\n",
    "mit $r =$ Anzahl reiche Menschen und $a =$ Anzahl arme Menschen."
   ]
  },
  {
   "cell_type": "markdown",
   "id": "9cda6811-27cd-4995-8424-2aa25493b041",
   "metadata": {
    "extensions": {
     "jupyter_dashboards": {
      "activeView": "grid_default",
      "views": {
       "grid_default": {
        "col": null,
        "height": 2,
        "hidden": true,
        "locked": true,
        "row": null,
        "width": 2
       }
      }
     }
    }
   },
   "source": [
    "***\n",
    "\n",
    "### <span style=\"font-family:Century Gothic;color:DarkCyan\">2.1 Armutsrisiko</span>\n",
    "\n",
    "In Deutschland gilt eine Person als armutsgefährdet, wenn sie über weniger als 60% des mittleren Einkommens (sog. Medianeinkommen) der Gesamtbevölkerung verfügt. Das Medianeinkommen ist das Einkommen, von dem aus die Anzahl derjenigen mit niedrigeren Einkommen gleich groß ist wie die Anzahl derjenigen mit höheren Einkommen.\n",
    "\n",
    "> **Nutzen Sie die untenstehende Grafik, um die Höhe des mittleren Einkommens der Gesamtbevölkerung zu bestimmen.**"
   ]
  },
  {
   "cell_type": "code",
   "execution_count": 45,
   "id": "9f4a206e-375a-45f1-8b0b-46a86a17e48d",
   "metadata": {
    "extensions": {
     "jupyter_dashboards": {
      "activeView": "grid_default",
      "views": {
       "grid_default": {
        "col": null,
        "height": 2,
        "hidden": true,
        "locked": true,
        "row": null,
        "width": 2
       }
      }
     }
    }
   },
   "outputs": [
    {
     "data": {
      "text/html": [
       "\n",
       "        <iframe\n",
       "            width=\"100%\"\n",
       "            height=\"900px\"\n",
       "            src=\"https://www.iwkoeln.de/fileadmin/user_upload/HTML/2021/Einkommensverteilung/index.html\"\n",
       "            frameborder=\"0\"\n",
       "            allowfullscreen\n",
       "            \n",
       "        ></iframe>\n",
       "        "
      ],
      "text/plain": [
       "<IPython.lib.display.IFrame at 0x1860dd48670>"
      ]
     },
     "metadata": {},
     "output_type": "display_data"
    }
   ],
   "source": [
    "display(IFrame('https://www.iwkoeln.de/fileadmin/user_upload/HTML/2021/Einkommensverteilung/index.html', '100%', '900px'))\n",
    "#HTML('<iframe width=\"100%\" height=\"900\" src=\"https://www.iwkoeln.de/fileadmin/user_upload/HTML/2021/Einkommensverteilung/index.html\" frameborder=\"0\" allowfullscreen></iframe>')"
   ]
  },
  {
   "cell_type": "code",
   "execution_count": 46,
   "id": "3af33a3c-6771-4f5a-a37f-1296c66f9256",
   "metadata": {
    "extensions": {
     "jupyter_dashboards": {
      "activeView": "grid_default",
      "views": {
       "grid_default": {
        "col": null,
        "height": 2,
        "hidden": true,
        "locked": true,
        "row": null,
        "width": 2
       }
      }
     }
    },
    "tags": []
   },
   "outputs": [],
   "source": [
    "text_median = widgets.IntText(\n",
    "    value=2000,\n",
    "    description='Mittleres E.',\n",
    "    disabled=False\n",
    ")\n",
    "\n",
    "\n",
    "output_median = widgets.Text(\n",
    "    value='',\n",
    "    disabled=True\n",
    ")\n",
    "\n",
    "\n",
    "button_median = widgets.Button(\n",
    "    description='Auswertung',\n",
    "    disabled=False,\n",
    "    button_style='', # 'success', 'info', 'warning', 'danger' or ''\n",
    "    tooltip='Bitte klicken.',\n",
    "    #icon='check' # (FontAwesome names without the `fa-` prefix)\n",
    ")\n",
    "\n",
    "hinweis_median = widgets.Label(\n",
    "        value=\"\",\n",
    "        placeholder='Some LaTeX',\n",
    "        description='Some LaTeX',\n",
    "        disabled=False\n",
    "    )\n",
    "\n",
    "# define function\n",
    "def check(button_instance):\n",
    "  if text_median.value  < 2017:\n",
    "    output_median.value = 'Das mittlere Einkommen ist höher.'\n",
    "    button_median.button_style = 'danger'\n",
    "  elif text_median.value > 2038:\n",
    "    output_median.value = 'Das mittlere Einkommen ist geringer.'\n",
    "    button_median.button_style = 'danger'\n",
    "  else:\n",
    "    output_median.value = 'Das mittlere Einkommen liegt in diesem Bereich.'\n",
    "    button_median.button_style = 'success'\n",
    "    hinweis_median.value = \"Bitte rechnen Sie im Folgenden mit dem exakten Wert (y = 2028 €).\"\n",
    "\n",
    "\n",
    "# set function as on_click on button\n",
    "button_median.on_click(check)"
   ]
  },
  {
   "cell_type": "markdown",
   "id": "57b0bed3-b584-43c9-8732-f22c65e98b32",
   "metadata": {},
   "source": [
    "> **Geben Sie den ermittelten Wert für das mittlere Einkommen in untenstehendes Feld ein. Durch Klicken des Auswertungs-Buttons erfahren Sie, ob der eingegebene Wert richtig ist.**"
   ]
  },
  {
   "cell_type": "code",
   "execution_count": 47,
   "id": "ab2affc7-2fdb-4f8b-ba38-c254606d4e43",
   "metadata": {
    "extensions": {
     "jupyter_dashboards": {
      "activeView": "grid_default",
      "views": {
       "grid_default": {
        "col": null,
        "height": 2,
        "hidden": true,
        "locked": true,
        "row": null,
        "width": 2
       }
      }
     }
    },
    "tags": []
   },
   "outputs": [
    {
     "data": {
      "application/vnd.jupyter.widget-view+json": {
       "model_id": "79297b9ca2a74a05a0a24b83c2b4ee8b",
       "version_major": 2,
       "version_minor": 0
      },
      "text/plain": [
       "Box(children=(IntText(value=2000, description='Mittleres E.'), Button(description='Auswertung', style=ButtonSt…"
      ]
     },
     "metadata": {},
     "output_type": "display_data"
    }
   ],
   "source": [
    "# nebeneinander in Box anzeigen\n",
    "items = [text_median, button_median, output_median, hinweis_median]\n",
    "box_median = Box(children=items)\n",
    "display(box_median) # <- this one command displays all children"
   ]
  },
  {
   "cell_type": "code",
   "execution_count": 48,
   "id": "b7b48cbe-b8e6-4619-86e2-bcca99a1b647",
   "metadata": {
    "extensions": {
     "jupyter_dashboards": {
      "activeView": "grid_default",
      "views": {
       "grid_default": {
        "col": null,
        "height": 2,
        "hidden": true,
        "locked": true,
        "row": null,
        "width": 2
       }
      }
     }
    },
    "tags": []
   },
   "outputs": [],
   "source": [
    "text_Armut = widgets.IntText(\n",
    "    value=1000,\n",
    "    description='Armutsgr.:',\n",
    "    disabled=False\n",
    ")\n",
    "\n",
    "output_Armut = widgets.Text(\n",
    "    value='',\n",
    "    disabled=True\n",
    ")\n",
    "\n",
    "button_Armut = widgets.Button(\n",
    "    description='Auswertung',\n",
    "    disabled=False,\n",
    "    button_style='', # 'success', 'info', 'warning', 'danger' or ''\n",
    "    tooltip='Bitte klicken.',\n",
    "    #icon='check' # (FontAwesome names without the `fa-` prefix)\n",
    ")\n",
    "\n",
    "\n",
    "# define function\n",
    "def check(button_instance):\n",
    "  if text_Armut.value == 1217:\n",
    "    output_Armut.value = 'Richtig, das ist die Armutsgrenze.'\n",
    "    button_Armut.button_style = 'success'\n",
    "  elif text_Armut.value > 1217:\n",
    "    output_Armut.value = 'Die Armutsgrenze ist geringer.'\n",
    "    button_Armut.button_style = 'danger'\n",
    "  else:\n",
    "    output_Armut.value = 'Die Armutsgrenze ist höher.'\n",
    "    button_Armut.button_style = 'danger'\n",
    "\n",
    "# set function as on_click on button\n",
    "button_Armut.on_click(check)"
   ]
  },
  {
   "cell_type": "markdown",
   "id": "35f6e0b5-a58c-4f4d-9af2-8ab80630d89f",
   "metadata": {
    "extensions": {
     "jupyter_dashboards": {
      "activeView": "grid_default",
      "views": {
       "grid_default": {
        "col": null,
        "height": 2,
        "hidden": true,
        "locked": true,
        "row": null,
        "width": 2
       }
      }
     }
    }
   },
   "source": [
    "> **Berechnen Sie nun die Armutsgrenze (60% des mittleren Einkommens). Durch Klicken des Auswertungs-Buttons erfahren Sie, ob der eingegebene Wert richtig ist.**"
   ]
  },
  {
   "cell_type": "code",
   "execution_count": 49,
   "id": "22d7d1f1-15bc-4a4b-ae8c-661c222c30c1",
   "metadata": {
    "extensions": {
     "jupyter_dashboards": {
      "activeView": "grid_default",
      "views": {
       "grid_default": {
        "col": null,
        "height": 2,
        "hidden": true,
        "locked": true,
        "row": null,
        "width": 2
       }
      }
     }
    }
   },
   "outputs": [
    {
     "data": {
      "application/vnd.jupyter.widget-view+json": {
       "model_id": "059774fa501b4822982a6fc4648689d3",
       "version_major": 2,
       "version_minor": 0
      },
      "text/plain": [
       "Box(children=(IntText(value=1000, description='Armutsgr.:'), Button(description='Auswertung', style=ButtonStyl…"
      ]
     },
     "metadata": {},
     "output_type": "display_data"
    }
   ],
   "source": [
    "# nebeneinander in Box anzeigen\n",
    "items = [text_Armut, button_Armut, output_Armut]\n",
    "box_Armut = Box(children=items)\n",
    "display(box_Armut) # <- this one command displays all children"
   ]
  },
  {
   "cell_type": "code",
   "execution_count": 21,
   "id": "c2a63196-15a0-4c79-8be5-a663492e4985",
   "metadata": {
    "extensions": {
     "jupyter_dashboards": {
      "activeView": "grid_default",
      "views": {
       "grid_default": {
        "col": null,
        "height": 2,
        "hidden": true,
        "locked": true,
        "row": null,
        "width": 2
       }
      }
     }
    }
   },
   "outputs": [],
   "source": [
    "median_Anteil = widgets.BoundedFloatText(\n",
    "    value=0.5,\n",
    "    min=0,\n",
    "    max=1,\n",
    "    step=0.01,\n",
    "    description='$p=$',\n",
    "    disabled=False\n",
    ")\n",
    "\n",
    "\n",
    "\n",
    "output_Anteil = widgets.Text(\n",
    "    value='',\n",
    "    disabled=True\n",
    ")\n",
    "\n",
    "\n",
    "button_Anteil = widgets.Button(\n",
    "    description='Auswertung',\n",
    "    disabled=False,\n",
    "    button_style='', # 'success', 'info', 'warning', 'danger' or ''\n",
    "    tooltip='Bitte klicken.',\n",
    "    #icon='check' # (FontAwesome names without the `fa-` prefix)\n",
    ")\n",
    "\n",
    "\n",
    "# define function\n",
    "def check(button_instance):\n",
    "  if median_Anteil.value == 0.84:\n",
    "    output_Anteil.value = 'Richtig, das ist der korrekte Wert.'\n",
    "    button_Anteil.button_style = 'success'\n",
    "  elif median_Anteil.value > 0.84:\n",
    "    output_Anteil.value = 'Der Wert ist geringer.'\n",
    "    button_Anteil.button_style = 'danger'\n",
    "  else:\n",
    "    output_Anteil.value = 'Der Wert ist höher.'\n",
    "    button_Anteil.button_style = 'danger'\n",
    "\n",
    "# set function as on_click on button\n",
    "button_Anteil.on_click(check)"
   ]
  },
  {
   "cell_type": "markdown",
   "id": "9a9a0fbb-281a-41e8-aa32-6c0195d8324d",
   "metadata": {
    "extensions": {
     "jupyter_dashboards": {
      "activeView": "grid_default",
      "views": {
       "grid_default": {
        "col": null,
        "height": 2,
        "hidden": true,
        "locked": true,
        "row": null,
        "width": 2
       }
      }
     }
    }
   },
   "source": [
    "> **Wie hoch ist der Anteil an reichen, also nicht-armutsgefährdeten Menschen in der Gesamtbevölkerung? Durch Klicken des Auswertungs-Buttons erfahren Sie, ob der eingegebene Wert richtig ist.**"
   ]
  },
  {
   "cell_type": "code",
   "execution_count": 50,
   "id": "671df1da-20a4-4634-b292-11ef5357799c",
   "metadata": {
    "extensions": {
     "jupyter_dashboards": {
      "activeView": "grid_default",
      "views": {
       "grid_default": {
        "col": null,
        "height": 2,
        "hidden": true,
        "locked": true,
        "row": null,
        "width": 2
       }
      }
     }
    }
   },
   "outputs": [
    {
     "data": {
      "application/vnd.jupyter.widget-view+json": {
       "model_id": "a42b8dfe86c84fc39e41c70e13bcdbfe",
       "version_major": 2,
       "version_minor": 0
      },
      "text/plain": [
       "Box(children=(BoundedFloatText(value=0.5, description='$p=$', max=1.0, step=0.01), Button(description='Auswert…"
      ]
     },
     "metadata": {},
     "output_type": "display_data"
    }
   ],
   "source": [
    "# nebeneinander in Box anzeigen\n",
    "items = [median_Anteil, button_Anteil, output_Anteil]\n",
    "box_Anteil = Box(children=items)\n",
    "display(box_Anteil) # <- this one command displays all children"
   ]
  },
  {
   "cell_type": "code",
   "execution_count": 51,
   "id": "8ec0d3ef-5df2-4a1a-8154-d51907655238",
   "metadata": {
    "extensions": {
     "jupyter_dashboards": {
      "activeView": "grid_default",
      "views": {
       "grid_default": {
        "col": null,
        "height": 2,
        "hidden": true,
        "locked": true,
        "row": null,
        "width": 2
       }
      }
     }
    }
   },
   "outputs": [
    {
     "data": {
      "text/html": [
       "<a href=\"https://www.destatis.de/DE/Presse/Pressemitteilungen/2022/08/PD22_327_634.html\">Hier erhalten Sie weiterführende Infos zum Relativen Armutsrisiko in Deutschland.</a>\n"
      ],
      "text/plain": [
       "<IPython.core.display.HTML object>"
      ]
     },
     "metadata": {},
     "output_type": "display_data"
    }
   ],
   "source": [
    "%%html\n",
    "<a href=\"https://www.destatis.de/DE/Presse/Pressemitteilungen/2022/08/PD22_327_634.html\">Hier erhalten Sie weiterführende Infos zum Relativen Armutsrisiko in Deutschland.</a>"
   ]
  },
  {
   "cell_type": "markdown",
   "id": "8d7e430a-db95-430c-8c75-52c49316acd1",
   "metadata": {
    "extensions": {
     "jupyter_dashboards": {
      "activeView": "grid_default",
      "views": {
       "grid_default": {
        "col": null,
        "height": 2,
        "hidden": true,
        "locked": true,
        "row": null,
        "width": 2
       }
      }
     }
    }
   },
   "source": [
    "***\n",
    "\n",
    "### <span style=\"font-family:Century Gothic;color:DarkCyan\">2.2 Optimales Steuer- und Transfersystem </span>\n",
    "\n",
    "Der Staat entschließt sich, Einkommen umzuverteilen. Arme Individuen mit geringem Einkommen $\\underline{y}$ erhalten einen Transfer $B$. Diesen Transfer müssen reiche Individuen mit hohem Einkommen $\\overline{y}$ durch Abgaben $T$ finanzieren. Daher gilt $rT=aB$.\n",
    "\n",
    "\n",
    " \n",
    "\n",
    "Der Nutzen der Individuen hängt von $B$ und $T$ ab. Jedes Individuum hat eine Vorstellung davon, wie hoch $B$ und $T$ sein sollten. Es hält die Transfers und Abgaben für ideal, die seinen eigenen Nutzen maximieren. \n",
    "\n",
    "> **Nutzen Sie den Slider, um die für Luca optimale Steuerlast $T$ zu finden.**\n"
   ]
  },
  {
   "cell_type": "code",
   "execution_count": 52,
   "id": "4247e0d8-2b64-471b-a3e5-0d22a0f38fd1",
   "metadata": {
    "extensions": {
     "jupyter_dashboards": {
      "activeView": "grid_default",
      "views": {
       "grid_default": {
        "col": null,
        "height": 2,
        "hidden": true,
        "locked": true,
        "row": null,
        "width": 2
       }
      }
     }
    }
   },
   "outputs": [
    {
     "data": {
      "application/vnd.jupyter.widget-view+json": {
       "model_id": "e3da6bc092274621bb81e9dbec93bc08",
       "version_major": 2,
       "version_minor": 0
      },
      "text/plain": [
       "interactive(children=(IntSlider(value=450, description='T', max=900), Output()), _dom_classes=('widget-interac…"
      ]
     },
     "metadata": {},
     "output_type": "display_data"
    },
    {
     "name": "stdout",
     "output_type": "stream",
     "text": [
      "Nutzen\n"
     ]
    }
   ],
   "source": [
    "def f(T):\n",
    "    return (0.84*(900 - T)**0.5 + (1 - 0.84)*(100 + (0.84/0.16)*T)**0.5)\n",
    "\n",
    "\n",
    "\n",
    "interact(f, T=(0, 900));\n",
    "print('Nutzen')\n"
   ]
  },
  {
   "cell_type": "markdown",
   "id": "6aff384b-5293-4b14-aba0-6b874481d16e",
   "metadata": {
    "extensions": {
     "jupyter_dashboards": {
      "activeView": "grid_default",
      "views": {
       "grid_default": {
        "col": null,
        "height": 2,
        "hidden": true,
        "locked": true,
        "row": null,
        "width": 2
       }
      }
     }
    }
   },
   "source": [
    "> **Berechnen Sie nun selbständig die für Luca optimale Höhe von $B$ und $T$. Tipp: Nutzen Sie zur Berechnung Lucas Nutzenfunktion, die Werte für Lucas Einkommen bei gutem und schlechtem Wetter aus Aufgabe 1.2 sowie die Armutsrisikoquote $(1-p)$ aus Aufgabe 2.1. Für diese Teilaufgabe können Sie einen Taschenrechner nutzen.**\n",
    "\n",
    "> **Versuchen Sie, die Berechnung selbständig durchzuführen. Falls nötig, nutzen Sie untenstehende Lösungshinweise für die einzelnen Schritte.**"
   ]
  },
  {
   "cell_type": "code",
   "execution_count": 53,
   "id": "06150f80-32a2-4631-873f-40f0a34eec5e",
   "metadata": {
    "extensions": {
     "jupyter_dashboards": {
      "activeView": "grid_default",
      "views": {
       "grid_default": {
        "col": null,
        "height": 2,
        "hidden": true,
        "locked": true,
        "row": null,
        "width": 2
       }
      }
     }
    },
    "tags": []
   },
   "outputs": [
    {
     "data": {
      "application/vnd.jupyter.widget-view+json": {
       "model_id": "6edc94c0fc7c4222b905be37e6095a0a",
       "version_major": 2,
       "version_minor": 0
      },
      "text/plain": [
       "Tab(children=(Accordion(children=(Label(value='$$ U = p( \\\\overline{y} - T)^{0,5} + (1-p)( \\\\underline{y} + B)…"
      ]
     },
     "execution_count": 53,
     "metadata": {},
     "output_type": "execute_result"
    }
   ],
   "source": [
    "accordion2 = widgets.Accordion([\n",
    "    widgets.Label(\n",
    "        value=\"$$ U = p( \\\\overline{y} - T)^{0,5} + (1-p)( \\\\underline{y} + B)^{0,5} $$\",\n",
    "        placeholder='Some LaTeX',\n",
    "        description='Some LaTeX',\n",
    "        disabled=False\n",
    "    ),\n",
    "    widgets.Label(\n",
    "        value=\"$$ p= 0,84 $$ und $$ T = \\\\frac{0,16}{0,84} B$$\",\n",
    "        placeholder='Some LaTeX',\n",
    "        description='Some LaTeX',\n",
    "        disabled=False\n",
    "    ),\n",
    "    widgets.Label(\n",
    "        value=\"$$ U = 0,84 \\\\times ( 900 - \\\\frac{0,16}{0,84} B)^{0,5} + (0,16) \\\\times ( 100 + B)^{0,5}  $$\",\n",
    "        placeholder='Some LaTeX',\n",
    "        description='Some LaTeX',\n",
    "        disabled=False\n",
    "    ),\n",
    "    widgets.Label(\n",
    "        value=\"$$ \\\\dfrac{ \\partial U}{\\partial B} = 0,84 \\\\times 0,5 \\\\times ( 900 - \\\\frac{0,16}{0,84} B)^{-0,5}\\\\dfrac{\\partial y}{\\partial B} + 0,16 \\\\times 0.5 \\\\times ( 100 + B)^{-0,5} \\\\dfrac{\\partial y}{\\partial B} = 0$$\",\n",
    "        placeholder='Some LaTeX',\n",
    "        description='Some LaTeX',\n",
    "        disabled=False\n",
    "    ),\n",
    "    widgets.Label(\n",
    "        value=\"$$ \\\\dfrac{\\partial y}{\\partial B} = - \\\\frac{0,16}{0,84}  $$  und $$ \\\\dfrac{\\partial y}{\\partial B} = 1  $$\",\n",
    "        placeholder='Some LaTeX',\n",
    "        description='Some LaTeX',\n",
    "        disabled=False\n",
    "    ),\n",
    "    widgets.Label(\n",
    "        value=\"$$  \\\\dfrac{ \\partial U}{\\partial B} = 0,84 \\\\times 0,5 \\\\times ( 900 - \\\\frac{0,16}{0,84} B)^{-0,5} \\\\times (- \\\\frac{0,16}{0,84}) + 0,16 \\\\times 0,5 \\\\times ( 100 + B)^{-0,5} = 0$$\",\n",
    "        placeholder='Some LaTeX',\n",
    "        description='Some LaTeX',\n",
    "        disabled=False\n",
    "    ),\n",
    "    widgets.Label(\n",
    "        value=\"$$ 0,16 \\\\times 0,5 \\\\times ( 100 + B)^{-0,5} = 0,16 \\\\times 0,5 \\\\times ( 900 - \\\\frac{0,16}{0,84} B)^{-0,5}  $$\",\n",
    "        placeholder='Some LaTeX',\n",
    "        description='Some LaTeX',\n",
    "        disabled=False\n",
    "    ),\n",
    "    widgets.Label(\n",
    "        value=\"$$ ( 100 + B) = ( 900 - \\\\frac{0,16}{0,84} B) $$\",\n",
    "        placeholder='Some LaTeX',\n",
    "        description='Some LaTeX',\n",
    "        disabled=False\n",
    "    ),\n",
    "    widgets.Label(\n",
    "        value=\"$$  (1+\\\\frac{0,16}{0,84})B = 900 \\\\rightarrow B = 800 \\\\times 0,84 = 672 \\\\rightarrow T = \\\\frac{0,16}{0,84}672 = \\\\mathbf{128}$$ \",\n",
    "        placeholder='Some LaTeX',\n",
    "        description='Some LaTeX',\n",
    "        disabled=False\n",
    ")], selected_index=None)\n",
    "accordion2.set_title(0, 'Schritt 1: Nutzenfunktion aufstellen')\n",
    "accordion2.set_title(1, 'Schritt 2: Wahrscheinlichkeit p bestimmen')\n",
    "accordion2.set_title(2, 'Schritt 3: Werte in Nutzenfunktion einsetzen')\n",
    "accordion2.set_title(3, 'Schritt 4: Ableitung nach B bilden')\n",
    "accordion2.set_title(4, 'Schritt 5: Innere Ableitungen bilden')\n",
    "accordion2.set_title(5, 'Schritt 6: Innere Ableitungen einsetzen')\n",
    "accordion2.set_title(6, 'Schritt 7: Nach B auflösen')\n",
    "accordion2.set_title(7, 'Schritt 8: Vereinfachen')\n",
    "accordion2.set_title(8, 'Schritt 9: B und T bestimmen')\n",
    "\n",
    "\n",
    "\n",
    "\n",
    "accordion = widgets.Accordion([\n",
    "    widgets.Label(\n",
    "        value=\"$$ f(x)=x^n \\\\rightarrow f'(x) = n \\\\times x^{n-1} $$\",\n",
    "        placeholder='Some LaTeX',\n",
    "        description='Some LaTeX',\n",
    "        disabled=False\n",
    "    ),\n",
    "    widgets.Label(\n",
    "        value=\"$$f(x) = g(h(x)) \\\\rightarrow f'(x) = g'(h(x)) \\\\times h'(x)$$\",\n",
    "        placeholder='Some LaTeX',\n",
    "        description='Some LaTeX',\n",
    "        disabled=False  \n",
    ")], selected_index=None)\n",
    "accordion.set_title(0, 'Potenzregel')\n",
    "accordion.set_title(1, 'Kettenregel')\n",
    "\n",
    "\n",
    "\n",
    "tab_nest = widgets.Tab()\n",
    "tab_nest.children = [accordion2, accordion]\n",
    "tab_nest.set_title(0, 'Lösungsschritte')\n",
    "tab_nest.set_title(1, 'Ableitungsregeln')\n",
    "tab_nest"
   ]
  },
  {
   "cell_type": "markdown",
   "id": "01704d1f-d11f-4f92-a1fb-d27331c1ac14",
   "metadata": {
    "extensions": {
     "jupyter_dashboards": {
      "activeView": "grid_default",
      "views": {
       "grid_default": {
        "col": null,
        "height": 2,
        "hidden": true,
        "locked": true,
        "row": null,
        "width": 2
       }
      }
     }
    }
   },
   "source": [
    "***\n",
    "\n",
    "## <span style=\"font-family:Century Gothic;color:DarkCyan\">Aufgabe 3 </span>\n",
    "\n",
    "Die Arbeitslosenversicherung ist eine von fünf gesetzlichen Sozialversicherungen in Deutschland. Das bedeutet, alle Arbeitnehmer:innen müssen in die Versicherung einzahlen.\n"
   ]
  },
  {
   "cell_type": "code",
   "execution_count": 26,
   "id": "15ab8cb6-5176-4d9b-84c5-88f94624cadf",
   "metadata": {
    "extensions": {
     "jupyter_dashboards": {
      "activeView": "grid_default",
      "views": {
       "grid_default": {
        "col": null,
        "height": 2,
        "hidden": true,
        "locked": true,
        "row": null,
        "width": 2
       }
      }
     }
    }
   },
   "outputs": [
    {
     "data": {
      "text/html": [
       "<a href=\"https://www.bmas.de/DE/Soziales/Sozialversicherung/sozialversicherung-art.html\">Mehr Infos zur Sozialversicherung in Deutschland</a>\n"
      ],
      "text/plain": [
       "<IPython.core.display.HTML object>"
      ]
     },
     "metadata": {},
     "output_type": "display_data"
    }
   ],
   "source": [
    "%%html\n",
    "<a href=\"https://www.bmas.de/DE/Soziales/Sozialversicherung/sozialversicherung-art.html\">Mehr Infos zur Sozialversicherung in Deutschland</a>"
   ]
  },
  {
   "cell_type": "markdown",
   "id": "d4f43cb8-5754-4eb1-995e-aa22610eced2",
   "metadata": {
    "extensions": {
     "jupyter_dashboards": {
      "activeView": "grid_default",
      "views": {
       "grid_default": {
        "col": null,
        "height": 2,
        "hidden": true,
        "locked": true,
        "row": null,
        "width": 2
       }
      }
     }
    }
   },
   "source": [
    "***\n",
    "\n",
    "### <span style=\"font-family:Century Gothic;color:DarkCyan\">3.1 Private Arbeitslosenversicherung </span>\n",
    "\n",
    "Warum übernimmt der Staat diese Aufgabe? Beschäftigen wir uns zur Klärung dieser Frage mit folgendem hypothetischen Fall. Betrachten wir eine Gesellschaft, in der das Risiko, arbeitslos zu werden, bei $ q = 12.5 \\% $  liegt. In dieser Gesellschaft gibt es keine staatliche Arbeitslosenversicherung:: Wird ein Individuum arbeitslos, muss es einen Einkommensverlust in Kauf nehmen; sein Einkommen sinkt von $\\overline{y} = 100 $ auf $\\underline{y} = 20 $ Geldeinheiten (GE).\n",
    "\n",
    "Sie überlegen, die Hohenheimer-Hartz-Ersatz (HHE) zu gründen und als privater Anbieter einer Arbeitslosenversicherung in den Markt einzusteigen. Sie bieten Ihren Kunden an, im Falle der Arbeitslosigkeit den Einkommensverlust durch eine Transferzahlung $B$ auszugleichen.\n",
    "Der Preis (Versicherungsprämie $P$) für Ihre Kunden soll genau Ihre erwarteten Auszahlungen decken.\n",
    "\n",
    "> **Wie hoch würden Sie die Versicherungsprämie wählen? Berechen Sie den korrekten Wert und verifizieren Sie Ihr Ergebnis durch Klicken auf den Auswertungs-Button.**"
   ]
  },
  {
   "cell_type": "code",
   "execution_count": 54,
   "id": "37d12e27-2d51-47ad-9d9e-93a2c812a239",
   "metadata": {
    "extensions": {
     "jupyter_dashboards": {
      "activeView": "grid_default",
      "views": {
       "grid_default": {
        "col": null,
        "height": 2,
        "hidden": true,
        "locked": true,
        "row": null,
        "width": 2
       }
      }
     }
    }
   },
   "outputs": [],
   "source": [
    "opinion_HHE = widgets.RadioButtons(\n",
    "    options=['2 GE', '4 GE', '10 GE'],\n",
    "    value=None,\n",
    "    description='Prämie P',\n",
    "    disabled=False\n",
    ")\n",
    "\n",
    "button_HHE = widgets.Button(\n",
    "    description='Auswertung',\n",
    "    disabled=False,\n",
    "    button_style='', # 'success', 'info', 'warning', 'danger' or ''\n",
    "    tooltip='Bitte klicken.',\n",
    "    #icon='check' # (FontAwesome names without the `fa-` prefix)\n",
    ")\n",
    "\n",
    "output_HHE = widgets.Text(\n",
    "    value='',\n",
    "    disabled=True\n",
    ")\n",
    "\n",
    "# define function\n",
    "def check(button_instance):\n",
    "  if opinion_HHE.value == '10 GE':\n",
    "    output_HHE.value = ''\n",
    "    button_HHE.button_style = 'success'\n",
    "    button_HHE.description = 'Richtig'\n",
    "  else:\n",
    "    output_HHE.value = 'Die Formel lautet: P = 0,125 x (100 GE - 20 GE)'\n",
    "    button_HHE.button_style = 'danger'\n",
    "    button_HHE.description = 'Leider Falsch'\n",
    "\n",
    "# set function as on_click on button\n",
    "button_HHE.on_click(check)"
   ]
  },
  {
   "cell_type": "code",
   "execution_count": 28,
   "id": "114cb769-5bc9-456f-8635-36f986213d6b",
   "metadata": {
    "extensions": {
     "jupyter_dashboards": {
      "activeView": "grid_default",
      "views": {
       "grid_default": {
        "col": null,
        "height": 2,
        "hidden": true,
        "locked": true,
        "row": null,
        "width": 2
       }
      }
     }
    }
   },
   "outputs": [
    {
     "data": {
      "application/vnd.jupyter.widget-view+json": {
       "model_id": "3a7722c4f72e4767adcd1fd692997c10",
       "version_major": 2,
       "version_minor": 0
      },
      "text/plain": [
       "RadioButtons(description='Prämie P', options=('2 GE', '4 GE', '10 GE'), value=None)"
      ]
     },
     "metadata": {},
     "output_type": "display_data"
    },
    {
     "data": {
      "application/vnd.jupyter.widget-view+json": {
       "model_id": "21f7b8786d504319b2e9f2b874d33b9e",
       "version_major": 2,
       "version_minor": 0
      },
      "text/plain": [
       "Button(description='Auswertung', style=ButtonStyle(), tooltip='Bitte klicken.')"
      ]
     },
     "metadata": {},
     "output_type": "display_data"
    },
    {
     "data": {
      "application/vnd.jupyter.widget-view+json": {
       "model_id": "dae76f503812451299c1268d3bbb757a",
       "version_major": 2,
       "version_minor": 0
      },
      "text/plain": [
       "Text(value='', disabled=True)"
      ]
     },
     "metadata": {},
     "output_type": "display_data"
    }
   ],
   "source": [
    "display(opinion_HHE)\n",
    "display(button_HHE)\n",
    "display(output_HHE)"
   ]
  },
  {
   "cell_type": "markdown",
   "id": "c7fa6e3a-33e0-415a-9c1e-38c6d4327511",
   "metadata": {},
   "source": [
    "> **Berechnen Sie nun den erwarteten Nutzen eines repräsentativen Individuums bei Abschluss der Versicherung. Gehen Sie hierbei davon aus, dass die Individuen risikoavers sind und die Nutzenfunktion $u(y)=3y - \\frac{y^2}{100} $ besitzen.**"
   ]
  },
  {
   "cell_type": "code",
   "execution_count": 55,
   "id": "f7612608-0aa1-4cad-8cf6-9e87489956e5",
   "metadata": {
    "extensions": {
     "jupyter_dashboards": {
      "activeView": "grid_default",
      "views": {
       "grid_default": {
        "col": null,
        "height": 2,
        "hidden": true,
        "locked": true,
        "row": null,
        "width": 2
       }
      }
     }
    }
   },
   "outputs": [
    {
     "data": {
      "application/vnd.jupyter.widget-view+json": {
       "model_id": "37173aff9cad4dafb4d49caa2bc5576e",
       "version_major": 2,
       "version_minor": 0
      },
      "text/plain": [
       "Accordion(children=(Label(value='$E[u] = (1 - q) \\\\cdot u(\\\\overline{y} - P) + q \\\\cdot u(\\\\underline{y} - P +…"
      ]
     },
     "execution_count": 55,
     "metadata": {},
     "output_type": "execute_result"
    }
   ],
   "source": [
    "accordion = widgets.Accordion([\n",
    "    widgets.Label(\n",
    "        value=\"$E[u] = (1 - q) \\\\cdot u(\\\\overline{y} - P) + q \\\\cdot u(\\\\underline{y} - P + B)$\",\n",
    "        placeholder='Some LaTeX',\n",
    "        description='Some LaTeX',\n",
    "        disabled=False\n",
    "    ),\n",
    "    widgets.Label(\n",
    "        value=\"$E[u] = (1-0.125) \\\\cdot (3*(100 - 10) - \\\\frac{{(100-10)}^{2}}{100}) + 0.125 \\\\cdot (3*(100 - 10) - \\\\frac{{(100-10)}^{2}}{100}) = (0.875 + 0.125 ) \\\\cdot (270 - 81) = 189$\",\n",
    "        placeholder='Some LaTeX',\n",
    "        description='Some LaTeX',\n",
    "        disabled=False  \n",
    ")], selected_index=None)\n",
    "accordion.set_title(0, 'Formel')\n",
    "accordion.set_title(1, 'Lösung')\n",
    "accordion"
   ]
  },
  {
   "cell_type": "markdown",
   "id": "fac56530-f72c-493d-bbb7-6cd637d2c2a2",
   "metadata": {
    "extensions": {
     "jupyter_dashboards": {
      "activeView": "grid_default",
      "views": {
       "grid_default": {
        "col": null,
        "height": 2,
        "hidden": true,
        "locked": true,
        "row": null,
        "width": 2
       }
      }
     }
    }
   },
   "source": [
    "***\n",
    "\n",
    "### <span style=\"font-family:Century Gothic;color:DarkCyan\">3.2 Heterogenes Risiko </span>\n",
    "\n",
    "Gehen Sie nun davon aus, dass die Individuen ihr persönliches Risiko $q_i$, arbeitslos zu werden kennen. Dieses Risiko unterscheidet sich u.a. nach Qualifikationsniveau. Untenstehender Grafik können Sie die verschiedenen Arbeitslosenquoten für verschiedene Qualifikationsgruppen in Deutschland entnehmen.\n",
    "\n"
   ]
  },
  {
   "cell_type": "code",
   "execution_count": 56,
   "id": "cd11e818-6340-42e9-85c7-012ed6a4aeec",
   "metadata": {
    "extensions": {
     "jupyter_dashboards": {
      "activeView": "grid_default",
      "views": {
       "grid_default": {
        "col": null,
        "height": 2,
        "hidden": true,
        "locked": true,
        "row": null,
        "width": 2
       }
      }
     }
    },
    "tags": []
   },
   "outputs": [
    {
     "data": {
      "application/vnd.jupyter.widget-view+json": {
       "model_id": "4f1081bfd2e1466c812108a377c788b9",
       "version_major": 2,
       "version_minor": 0
      },
      "text/plain": [
       "Image(value=b'\\x89PNG\\r\\n\\x1a\\n\\x00\\x00\\x00\\rIHDR\\x00\\x00\\x04*\\x00\\x00\\x02\\x96\\x08\\x06\\x00\\x00\\x00\\x8f\\x8dx\\xf…"
      ]
     },
     "execution_count": 56,
     "metadata": {},
     "output_type": "execute_result"
    }
   ],
   "source": [
    "## Bilder einfügen\n",
    "file = builtins.open(\"Bilder/Arbeitslosenquote.png\", \"rb\")\n",
    "image = file.read()\n",
    "bild = widgets.Image(\n",
    "    value=image,\n",
    "    format='png',\n",
    "   # width=128,\n",
    "   # height=128,\n",
    "    )\n",
    "bild"
   ]
  },
  {
   "cell_type": "code",
   "execution_count": 31,
   "id": "f69c54d9-ba24-47f9-8a47-3a801b9b26c2",
   "metadata": {
    "extensions": {
     "jupyter_dashboards": {
      "activeView": "grid_default",
      "views": {
       "grid_default": {
        "col": null,
        "height": 2,
        "hidden": true,
        "locked": true,
        "row": null,
        "width": 2
       }
      }
     }
    }
   },
   "outputs": [
    {
     "data": {
      "text/html": [
       "<a href=\"https://doku.iab.de/arbeitsmarktdaten/Qualo_2020.pdf\">Quelle</a>\n"
      ],
      "text/plain": [
       "<IPython.core.display.HTML object>"
      ]
     },
     "metadata": {},
     "output_type": "display_data"
    }
   ],
   "source": [
    "%%html\n",
    "<a href=\"https://doku.iab.de/arbeitsmarktdaten/Qualo_2020.pdf\">Quelle</a>"
   ]
  },
  {
   "cell_type": "markdown",
   "id": "91d8a319-d9be-4b2e-92e5-1b5e4da18c0f",
   "metadata": {
    "extensions": {
     "jupyter_dashboards": {
      "activeView": "grid_default",
      "views": {
       "grid_default": {
        "col": null,
        "height": 2,
        "hidden": true,
        "locked": true,
        "row": null,
        "width": 2
       }
      }
     }
    }
   },
   "source": [
    "> **Berechnen Sie für jedes Qualifikationsniveau und ausgehend vom jeweiligen Arbeitslosenrisiko im Jahr 2019 den erwarteten Nutzen ohne Versicherung. Nutzen Sie den Slider, um Ihre Ergebnisse zu verifizieren. Nehmen Sie hierfür Ihren Taschenrechner zur Hand.**"
   ]
  },
  {
   "cell_type": "code",
   "execution_count": 57,
   "id": "1bb26eab-6fd0-4d2b-8293-c516b7b0e16d",
   "metadata": {
    "extensions": {
     "jupyter_dashboards": {
      "activeView": "grid_default",
      "views": {
       "grid_default": {
        "col": null,
        "height": 2,
        "hidden": true,
        "locked": true,
        "row": null,
        "width": 2
       }
      }
     }
    },
    "tags": []
   },
   "outputs": [],
   "source": [
    "def f(q):\n",
    "    return ((1-q)*(3*100 - (100**2)/100) + q*(3*20 - (20**2)/100))"
   ]
  },
  {
   "cell_type": "code",
   "execution_count": 58,
   "id": "e83737de-ca05-47f1-a797-67fe2cac8d9f",
   "metadata": {
    "extensions": {
     "jupyter_dashboards": {
      "activeView": "grid_default",
      "views": {
       "grid_default": {
        "col": null,
        "height": 2,
        "hidden": true,
        "locked": true,
        "row": null,
        "width": 2
       }
      }
     }
    },
    "tags": []
   },
   "outputs": [
    {
     "data": {
      "application/vnd.jupyter.widget-view+json": {
       "model_id": "354d44e9abd64a9bb94e016aec67c053",
       "version_major": 2,
       "version_minor": 0
      },
      "text/plain": [
       "interactive(children=(FloatSlider(value=0.0, description='q', max=1.0, step=0.01), Output()), _dom_classes=('w…"
      ]
     },
     "metadata": {},
     "output_type": "display_data"
    },
    {
     "name": "stdout",
     "output_type": "stream",
     "text": [
      "Erwarteter Nutzen ohne Versicherung\n"
     ]
    }
   ],
   "source": [
    "interact(f, q=(0,1,0.01));\n",
    "print('Erwarteter Nutzen ohne Versicherung')"
   ]
  },
  {
   "cell_type": "markdown",
   "id": "13f43fa6-1bbb-485a-8db7-94844fed7aab",
   "metadata": {
    "extensions": {
     "jupyter_dashboards": {
      "activeView": "grid_default",
      "views": {
       "grid_default": {
        "col": null,
        "height": 2,
        "hidden": true,
        "locked": true,
        "row": null,
        "width": 2
       }
      }
     }
    }
   },
   "source": [
    "> **Wann würden Individuen Ihre Versicherung abschließen?**"
   ]
  },
  {
   "cell_type": "markdown",
   "id": "c9cf39b3-7a39-4e9d-8d77-da2a2f0550ea",
   "metadata": {
    "extensions": {
     "jupyter_dashboards": {
      "activeView": "grid_default",
      "views": {
       "grid_default": {
        "col": null,
        "height": 2,
        "hidden": true,
        "locked": true,
        "row": null,
        "width": 2
       }
      }
     }
    }
   },
   "source": [
    "Wenn der erwartete Nutzen ohne Versicherung"
   ]
  },
  {
   "cell_type": "code",
   "execution_count": 61,
   "id": "d136897d-d443-4a20-95a8-2021ff2eeeb9",
   "metadata": {
    "extensions": {
     "jupyter_dashboards": {
      "activeView": "grid_default",
      "views": {
       "grid_default": {
        "col": null,
        "height": 2,
        "hidden": true,
        "locked": true,
        "row": null,
        "width": 2
       }
      }
     }
    },
    "tags": []
   },
   "outputs": [],
   "source": [
    "opinion_Versicherung = widgets.RadioButtons(\n",
    "    options=['größer', 'kleiner'],\n",
    "    value=None,\n",
    "    description='',\n",
    "    disabled=False\n",
    ")\n",
    "\n",
    "button_Versicherung = widgets.Button(\n",
    "    description='Auswertung',\n",
    "    disabled=False,\n",
    "    button_style='', # 'success', 'info', 'warning', 'danger' or ''\n",
    "    tooltip='Bitte klicken.',\n",
    "    #icon='check' # (FontAwesome names without the `fa-` prefix)\n",
    ")\n",
    "\n",
    "\n",
    "\n",
    "# define function\n",
    "def check(button_instance):\n",
    "  if opinion_Versicherung.value == 'kleiner':\n",
    "    button_Versicherung.button_style = 'success'\n",
    "    button_Versicherung.description = 'Richtig'\n",
    "  else:\n",
    "    button_Versicherung.button_style = 'danger'\n",
    "    button_Versicherung.description = 'Leider Falsch'\n",
    "\n",
    "# set function as on_click on button\n",
    "button_Versicherung.on_click(check)"
   ]
  },
  {
   "cell_type": "code",
   "execution_count": 62,
   "id": "0a24557d-1559-43ad-ae02-31b50cd260c7",
   "metadata": {
    "extensions": {
     "jupyter_dashboards": {
      "activeView": "grid_default",
      "views": {
       "grid_default": {
        "col": null,
        "height": 2,
        "hidden": true,
        "locked": true,
        "row": null,
        "width": 2
       }
      }
     }
    },
    "tags": []
   },
   "outputs": [
    {
     "data": {
      "application/vnd.jupyter.widget-view+json": {
       "model_id": "a5e7bc6396664019aa1c697719aab7ec",
       "version_major": 2,
       "version_minor": 0
      },
      "text/plain": [
       "Box(children=(RadioButtons(options=('größer', 'kleiner'), value=None), Button(description='Auswertung', style=…"
      ]
     },
     "metadata": {},
     "output_type": "display_data"
    }
   ],
   "source": [
    "items = [opinion_Versicherung, button_Versicherung]\n",
    "box_Versicherung = Box(children=items)\n",
    "display(box_Versicherung) # <- this one command displays all children"
   ]
  },
  {
   "cell_type": "markdown",
   "id": "029b581a-896b-4577-a902-3e425e6099de",
   "metadata": {
    "extensions": {
     "jupyter_dashboards": {
      "activeView": "grid_default",
      "views": {
       "grid_default": {
        "col": null,
        "height": 2,
        "hidden": true,
        "locked": true,
        "row": null,
        "width": 2
       }
      }
     }
    }
   },
   "source": [
    "ist als der zu erwartenden Nutzen mit Versicherung."
   ]
  },
  {
   "cell_type": "markdown",
   "id": "df73c518-15cb-4680-bc37-184bf39ce593",
   "metadata": {
    "extensions": {
     "jupyter_dashboards": {
      "activeView": "grid_default",
      "views": {
       "grid_default": {
        "col": null,
        "height": 2,
        "hidden": true,
        "locked": true,
        "row": null,
        "width": 2
       }
      }
     }
    }
   },
   "source": [
    "> **Welche Individuen würden folglich eine Versicherung zum Preis von 10 GE abschließen?**"
   ]
  },
  {
   "cell_type": "code",
   "execution_count": 63,
   "id": "5f44fc6b-6ea0-47e8-8b88-3c2511d92f05",
   "metadata": {
    "extensions": {
     "jupyter_dashboards": {
      "activeView": "grid_default",
      "views": {
       "grid_default": {
        "col": null,
        "height": 2,
        "hidden": true,
        "locked": true,
        "row": null,
        "width": 2
       }
      }
     }
    }
   },
   "outputs": [],
   "source": [
    "opinion_Preis = widgets.RadioButtons(\n",
    "    options=['Personen ohne Berufsabschluss', 'Personen mit Lehre/Fachhochschule','Personen mit Hochschule/Fachhochschule'],\n",
    "    value=None,\n",
    "    description='',\n",
    "    disabled=False\n",
    ")\n",
    "\n",
    "button_Preis = widgets.Button(\n",
    "    description='Auswertung',\n",
    "    disabled=False,\n",
    "    button_style='', # 'success', 'info', 'warning', 'danger' or ''\n",
    "    tooltip='Bitte klicken.',\n",
    "    #icon='check' # (FontAwesome names without the `fa-` prefix)\n",
    ")\n",
    "\n",
    "\n",
    "# define function\n",
    "def check(button_instance):\n",
    "  if opinion_Preis.value == 'Personen ohne Berufsabschluss':\n",
    "    button_Preis.button_style = 'success'\n",
    "    button_Preis.description = 'Richtig'\n",
    "  else:\n",
    "    button_Preis.button_style = 'danger'\n",
    "    button_Preis.description = 'Leider Falsch'\n",
    "\n",
    "# set function as on_click on button\n",
    "button_Preis.on_click(check)"
   ]
  },
  {
   "cell_type": "code",
   "execution_count": 64,
   "id": "d4a0a19f-88ca-4eb9-b571-f9e248a4cb6c",
   "metadata": {
    "extensions": {
     "jupyter_dashboards": {
      "activeView": "grid_default",
      "views": {
       "grid_default": {
        "col": null,
        "height": 2,
        "hidden": true,
        "locked": true,
        "row": null,
        "width": 2
       }
      }
     }
    }
   },
   "outputs": [
    {
     "data": {
      "application/vnd.jupyter.widget-view+json": {
       "model_id": "250484f449fd48f39c76bac6dca7762c",
       "version_major": 2,
       "version_minor": 0
      },
      "text/plain": [
       "Box(children=(RadioButtons(options=('Personen ohne Berufsabschluss', 'Personen mit Lehre/Fachhochschule', 'Per…"
      ]
     },
     "metadata": {},
     "output_type": "display_data"
    }
   ],
   "source": [
    "items = [opinion_Preis, button_Preis]\n",
    "box_Preis = Box(children=items)\n",
    "display(box_Preis) # <- this one command displays all children"
   ]
  },
  {
   "cell_type": "markdown",
   "id": "1f493f0d-1e1c-4e7a-8463-0b0b4eb98faf",
   "metadata": {},
   "source": [
    "***\n",
    "\n",
    "### <span style=\"font-family:Century Gothic;color:DarkCyan\">3.3 Gewinne der Versicherung </span>"
   ]
  },
  {
   "cell_type": "markdown",
   "id": "0e4831cb-8080-4d8d-9663-8430d0d37e07",
   "metadata": {},
   "source": [
    "Nehmen Sie nun an, die HHE wird gesetzlich verpflichtet, im Markt kostendeckend zu operieren. \n",
    "\n",
    "> **Welche Bedingung muss erfüllt werden, damit die HHE-Versicherung kostendeckend operieren kann?**"
   ]
  },
  {
   "cell_type": "code",
   "execution_count": 65,
   "id": "067710d5-fd6b-4b24-8e33-668d04bb4f2c",
   "metadata": {
    "extensions": {
     "jupyter_dashboards": {
      "activeView": "grid_default",
      "views": {
       "grid_default": {
        "col": null,
        "height": 2,
        "hidden": true,
        "locked": true,
        "row": null,
        "width": 2
       }
      }
     }
    }
   },
   "outputs": [],
   "source": [
    "opinion_Versicherung_2 = widgets.RadioButtons(\n",
    "    options=['Einnahmen > Erwartungsausgaben', 'Einnahmen = Erwartungsausgaben', 'Versicherungspreis = Grenzausgaben'],\n",
    "    value=None,\n",
    "    description='',\n",
    "    disabled=False\n",
    ")\n",
    "\n",
    "button_Versicherung_2 = widgets.Button(\n",
    "    description='Auswertung',\n",
    "    disabled=False,\n",
    "    button_style='', # 'success', 'info', 'warning', 'danger' or ''\n",
    "    tooltip='Bitte klicken.',\n",
    "    #icon='check' # (FontAwesome names without the `fa-` prefix)\n",
    ")\n",
    "\n",
    "\n",
    "# define function\n",
    "def check(button_instance):\n",
    "  if opinion_Versicherung_2.value == 'Einnahmen = Erwartungsausgaben':\n",
    "    button_Versicherung_2.button_style = 'success'\n",
    "    button_Versicherung_2.description = 'Richtig'\n",
    "  else:\n",
    "    button_Versicherung_2.button_style = 'danger'\n",
    "    button_Versicherung_2.description = 'Leider Falsch'\n",
    "\n",
    "# set function as on_click on button\n",
    "button_Versicherung_2.on_click(check)"
   ]
  },
  {
   "cell_type": "code",
   "execution_count": 66,
   "id": "3fceb06e-b188-4641-9853-5a0d5f0ca937",
   "metadata": {
    "extensions": {
     "jupyter_dashboards": {
      "activeView": "grid_default",
      "views": {
       "grid_default": {
        "col": null,
        "height": 2,
        "hidden": true,
        "locked": true,
        "row": null,
        "width": 2
       }
      }
     }
    }
   },
   "outputs": [
    {
     "data": {
      "application/vnd.jupyter.widget-view+json": {
       "model_id": "5052548e0a6643d687bbf83fbb747ac1",
       "version_major": 2,
       "version_minor": 0
      },
      "text/plain": [
       "Box(children=(RadioButtons(options=('Einnahmen > Erwartungsausgaben', 'Einnahmen = Erwartungsausgaben', 'Versi…"
      ]
     },
     "metadata": {},
     "output_type": "display_data"
    }
   ],
   "source": [
    "items = [opinion_Versicherung_2, button_Versicherung_2]\n",
    "box_Preis = Box(children=items)\n",
    "display(box_Preis) # <- this one command displays all children"
   ]
  },
  {
   "cell_type": "markdown",
   "id": "8b2a8723-bf37-45ea-8292-d77a94229fd0",
   "metadata": {
    "extensions": {
     "jupyter_dashboards": {
      "activeView": "grid_default",
      "views": {
       "grid_default": {
        "col": null,
        "height": 2,
        "hidden": true,
        "locked": true,
        "row": null,
        "width": 2
       }
      }
     }
    }
   },
   "source": [
    "Als Vorstandvorsitzende bei HHE überlegen Sie sich, eine Versicherungsprämie in Höhe von 10 GE im Jahr 2024 anzubieten."
   ]
  },
  {
   "cell_type": "markdown",
   "id": "4378f233-7006-48af-b4d7-e3e28e86f92d",
   "metadata": {},
   "source": [
    "<div class=\"alert alert-block alert-info\"><b>In der Präsenzveranstaltung werden wir gemeinsam ein Hörsaalexperiment durchführen, um zu untersuchen, unter welchen Bedingungen die Versicherung kostendeckend am Markt operieren kann.</div>"
   ]
  }
 ],
 "metadata": {
  "extensions": {
   "jupyter_dashboards": {
    "activeView": "grid_default",
    "version": 1,
    "views": {
     "grid_default": {
      "cellMargin": 2,
      "defaultCellHeight": 40,
      "maxColumns": 12,
      "name": "grid",
      "type": "grid"
     }
    }
   }
  },
  "kernelspec": {
   "display_name": "Python 3 (ipykernel)",
   "language": "python",
   "name": "python3"
  },
  "language_info": {
   "codemirror_mode": {
    "name": "ipython",
    "version": 3
   },
   "file_extension": ".py",
   "mimetype": "text/x-python",
   "name": "python",
   "nbconvert_exporter": "python",
   "pygments_lexer": "ipython3",
   "version": "3.10.12"
  }
 },
 "nbformat": 4,
 "nbformat_minor": 5
}
